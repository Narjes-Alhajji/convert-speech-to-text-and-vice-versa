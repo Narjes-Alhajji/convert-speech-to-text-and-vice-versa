{
 "cells": [
  {
   "cell_type": "code",
   "execution_count": 3,
   "id": "9fac76ad",
   "metadata": {},
   "outputs": [
    {
     "name": "stdout",
     "output_type": "stream",
     "text": [
      "Requirement already satisfied: ibm_watson in c:\\users\\sejran\\anaconda3\\lib\\site-packages (5.2.2)\n",
      "Requirement already satisfied: websocket-client==1.1.0 in c:\\users\\sejran\\anaconda3\\lib\\site-packages (from ibm_watson) (1.1.0)\n",
      "Requirement already satisfied: ibm-cloud-sdk-core==3.*,>=3.3.6 in c:\\users\\sejran\\anaconda3\\lib\\site-packages (from ibm_watson) (3.10.1)\n",
      "Requirement already satisfied: python-dateutil>=2.5.3 in c:\\users\\sejran\\anaconda3\\lib\\site-packages (from ibm_watson) (2.8.1)\n",
      "Requirement already satisfied: requests<3.0,>=2.0 in c:\\users\\sejran\\anaconda3\\lib\\site-packages (from ibm_watson) (2.25.1)\n",
      "Requirement already satisfied: PyJWT<3.0.0,>=2.0.1 in c:\\users\\sejran\\anaconda3\\lib\\site-packages (from ibm-cloud-sdk-core==3.*,>=3.3.6->ibm_watson) (2.1.0)\n",
      "Requirement already satisfied: six>=1.5 in c:\\users\\sejran\\anaconda3\\lib\\site-packages (from python-dateutil>=2.5.3->ibm_watson) (1.15.0)\n",
      "Requirement already satisfied: certifi>=2017.4.17 in c:\\users\\sejran\\anaconda3\\lib\\site-packages (from requests<3.0,>=2.0->ibm_watson) (2020.12.5)\n",
      "Requirement already satisfied: chardet<5,>=3.0.2 in c:\\users\\sejran\\anaconda3\\lib\\site-packages (from requests<3.0,>=2.0->ibm_watson) (4.0.0)\n",
      "Requirement already satisfied: idna<3,>=2.5 in c:\\users\\sejran\\anaconda3\\lib\\site-packages (from requests<3.0,>=2.0->ibm_watson) (2.10)\n",
      "Note: you may need to restart the kernel to use updated packages.\n",
      "Requirement already satisfied: urllib3<1.27,>=1.21.1 in c:\\users\\sejran\\anaconda3\\lib\\site-packages (from requests<3.0,>=2.0->ibm_watson) (1.26.4)\n"
     ]
    }
   ],
   "source": [
    "pip install ibm_watson"
   ]
  },
  {
   "cell_type": "code",
   "execution_count": 5,
   "id": "1d3e9938",
   "metadata": {},
   "outputs": [],
   "source": [
    "url='https://api.eu-gb.text-to-speech.watson.cloud.ibm.com/instances/213ddcfd-31bc-4b6b-a5eb-dd7d5dc577eb'\n",
    "apikey='uXNgzsxr6i-NLx7tbjWRsj2EMt_CFbGEfEqXd1D3IGxl'"
   ]
  },
  {
   "cell_type": "code",
   "execution_count": 3,
   "id": "662c9f7d",
   "metadata": {},
   "outputs": [],
   "source": [
    "from ibm_watson import TextToSpeechV1\n",
    "from ibm_cloud_sdk_core.authenticators import IAMAuthenticator"
   ]
  },
  {
   "cell_type": "code",
   "execution_count": 9,
   "id": "9214e319",
   "metadata": {},
   "outputs": [],
   "source": [
    "authenticator = IAMAuthenticator(apikey)\n",
    "tts = TextToSpeechV1(authenticator=authenticator)\n",
    "tts.set_service_url(url)"
   ]
  },
  {
   "cell_type": "code",
   "execution_count": 25,
   "id": "ac8c2c6d",
   "metadata": {},
   "outputs": [],
   "source": [
    "with open('./output1.mp3','wb') as audio_file:\n",
    "    res = tts.synthesize('Hello',accept='audio/mp3',voice='en-US_AllisonV3Voice').get_result()\n",
    "    audio_file.write(res.content)"
   ]
  },
  {
   "cell_type": "markdown",
   "id": "f0f194ab",
   "metadata": {},
   "source": [
    "# convert from File "
   ]
  },
  {
   "cell_type": "code",
   "execution_count": 17,
   "id": "bcd7cd9f",
   "metadata": {},
   "outputs": [],
   "source": [
    "with open('text to speech.txt','r') as f:\n",
    "    text = f.readlines()"
   ]
  },
  {
   "cell_type": "code",
   "execution_count": 18,
   "id": "55eddf69",
   "metadata": {},
   "outputs": [
    {
     "data": {
      "text/plain": [
       "['Hello word']"
      ]
     },
     "execution_count": 18,
     "metadata": {},
     "output_type": "execute_result"
    }
   ],
   "source": [
    "text"
   ]
  },
  {
   "cell_type": "code",
   "execution_count": 21,
   "id": "02db7ba7",
   "metadata": {},
   "outputs": [],
   "source": [
    "text = [line.replace('\\n','') for line in text]\n",
    "text = ''.join(str(line) for line in text)"
   ]
  },
  {
   "cell_type": "code",
   "execution_count": 26,
   "id": "7d33a3f5",
   "metadata": {},
   "outputs": [],
   "source": [
    "with open('./convertToSpeechFromFile.mp3','wb') as audio_file:\n",
    "    res = tts.synthesize(text,accept='audio/mp3',voice='en-US_AllisonV3Voice').get_result()\n",
    "    audio_file.write(res.content)"
   ]
  }
 ],
 "metadata": {
  "kernelspec": {
   "display_name": "Python 3",
   "language": "python",
   "name": "python3"
  },
  "language_info": {
   "codemirror_mode": {
    "name": "ipython",
    "version": 3
   },
   "file_extension": ".py",
   "mimetype": "text/x-python",
   "name": "python",
   "nbconvert_exporter": "python",
   "pygments_lexer": "ipython3",
   "version": "3.8.8"
  }
 },
 "nbformat": 4,
 "nbformat_minor": 5
}
